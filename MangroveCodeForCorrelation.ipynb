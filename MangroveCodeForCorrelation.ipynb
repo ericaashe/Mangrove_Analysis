{
 "cells": [
  {
   "cell_type": "markdown",
   "metadata": {},
   "source": [
    "## Mangrove Project: Predict Correlations in Factors"
   ]
  },
  {
   "cell_type": "code",
   "execution_count": 1,
   "metadata": {},
   "outputs": [
    {
     "name": "stderr",
     "output_type": "stream",
     "text": [
      "/Users/ericaashe/anaconda3/lib/python3.7/site-packages/statsmodels/compat/pandas.py:49: FutureWarning: The Panel class is removed from pandas. Accessing it from the top-level namespace will also be removed in the next version\n",
      "  data_klasses = (pandas.Series, pandas.DataFrame, pandas.Panel)\n"
     ]
    }
   ],
   "source": [
    "# load packages and modules\n",
    "date = '_2020'\n",
    "import numpy as np\n",
    "%matplotlib inline\n",
    "from matplotlib import pyplot as plt\n",
    "from matplotlib import colors as c\n",
    "from matplotlib import cm\n",
    "import pandas as pd\n",
    "import os\n",
    "#import pickle\n",
    "#import time\n",
    "#import random\n",
    "from sklearn.neighbors.kde import KernelDensity\n",
    "from scipy.interpolate import griddata\n",
    "from scipy.interpolate import interp1d\n",
    "from scipy import interpolate as interpolate\n",
    "from scipy import stats\n",
    "import statsmodels.api as sm\n",
    "import statsmodels.formula.api as smf\n",
    "from statsmodels.graphics.api import abline_plot\n",
    "\n",
    "main_dir = os.getcwd()\n",
    "\n",
    "os.chdir(main_dir + '/PFILES/')\n",
    "from plot_calc_load_funcs import *\n",
    "\n",
    "# load RSL (GIA) data\n",
    "os.chdir(main_dir + '/IFILES/')\n",
    "\n",
    "pgia = load_pickle(\"pgia_all.pkl\")\n",
    "giamods = load_pickle(\"modrange.pkl\")\n",
    "nages = load_pickle(\"nages.pkl\")\n",
    "#points_latlon = load_pickle(\"points_latlon.pkl\")\n",
    "\n",
    "\n",
    "# Mangrove data\n",
    "df = pd.read_csv('MangroveCorrData.csv')\n",
    "lat = df['Latitude'].values\n",
    "lon = df['Longitude'].values\n",
    "tide_class = df['Type'].values\n",
    "geo_set = df['Geomorphic setting'].values\n",
    "\n",
    "el_age = df['end4'].values\n",
    "ef_age = df['end1'].values\n",
    "age_beg1 = df['beg1'].values\n",
    "bf_age = age_beg1\n",
    "age_beg2 = df['beg2'].values\n",
    "age_beg3 = df['beg3'].values\n",
    "age_beg4 = df['beg4'].values\n",
    "age_begmid = np.empty(age_beg1.shape)\n",
    "age_begmid = np.nanmean([age_beg1, age_beg4], axis=0)+300\n",
    "bl_age = age_beg4+300\n",
    "bf_age = age_beg1+300\n",
    "\n",
    "accret_rate = df['Rate (mm yr-1)'].values.reshape([122,1])\n",
    "prox = -(df['intermediate-Field'].values - 1).reshape([122,1])\n",
    "tide_class = df['Type'].values.reshape([122,1])\n",
    "geo_set = df['Geomorphic setting'].values.reshape([122,1])\n",
    "\n",
    "dir = os.path.join(main_dir, date)\n",
    "if not os.path.exists(dir):\n",
    "    os.mkdir(dir)\n",
    "os.chdir(dir)\n",
    "\n",
    "# define ages with RSL data, color map, dates to predict and Earth parameters of models\n",
    "ages = np.arange(12.5, -.5, -.5)\n",
    "cmap1 = cm.get_cmap(\"viridis\")\n",
    "testt = np.arange(0, 12.6, .1)\n",
    "gia_param_names = ['lt', 'umv', 'lmv']\n",
    "# subtract RSL prediction at time 0 to adjust to present for each model\n",
    "pgia1 = np.empty(pgia.shape)\n",
    "for ii in range(len(ages)):\n",
    "    pgia1[:, :, ii] = pgia[:, :, ii] - pgia[:, :, -1]"
   ]
  },
  {
   "cell_type": "markdown",
   "metadata": {},
   "source": [
    "### Regress accretion Initiation Date AND Vertical Accretion Rate on RSLR Rate\n",
    "#### Find average rate of RSLR at the mean time of accretion (average when accretion rates are calculated for equivalence)"
   ]
  },
  {
   "cell_type": "code",
   "execution_count": 2,
   "metadata": {
    "scrolled": true
   },
   "outputs": [
    {
     "name": "stderr",
     "output_type": "stream",
     "text": [
      "/Users/ericaashe/anaconda3/lib/python3.7/site-packages/ipykernel_launcher.py:21: RuntimeWarning: Mean of empty slice\n"
     ]
    }
   ],
   "source": [
    "sel_acc = np.squeeze(np.where(df['intermediate-Field'] < 2))\n",
    "\n",
    "pgia_acc = pgia1[:, np.squeeze(sel_acc), :]\n",
    "#np.nanmean(rates[:, xx, 1])\n",
    "age_ave = 200\n",
    "age_per = 100\n",
    "#age_ave = 300\n",
    "#age_per = 100\n",
    "\n",
    "rates0, ages_acc = calculate_lin_gia_rates(pgia_acc, ages, age_ave, age_per)\n",
    "pareind = int(np.squeeze(np.where(df['Location']=='Pare Pare Indonesia')))\n",
    "rates_acc = rates0\n",
    "rates_acc[:, 18, :] = rates0[:, pareind, :] - 1.38\n",
    "\n",
    "# interpolate and average the models for the average accretion time (acc_dates):\n",
    "arb1 = df['b_acc_rate1'].values\n",
    "arb2 = df['b_acc_rate2'].values\n",
    "are1 = df['e_acc_rate1'].values\n",
    "are2 = df['e_acc_rate2'].values\n",
    "\n",
    "acc_dates = np.nanmean((arb1,arb2,are1,are2), axis = 0)\n"
   ]
  },
  {
   "cell_type": "code",
   "execution_count": 3,
   "metadata": {},
   "outputs": [],
   "source": [
    "accret_rate = df['Rate (mm yr-1)'].values.reshape([122,1])\n",
    "prox = -(df['intermediate-Field'].values - 1).reshape([122,1])\n",
    "tide_class = df['Type'].values.reshape([122,1])\n",
    "#tide_class = df['Type'].values.reshape([122,1])\n",
    "#tc = np.ndarray\n",
    "geo_set = df['Geomorphic setting'].values.reshape([122,1])\n"
   ]
  },
  {
   "cell_type": "code",
   "execution_count": 4,
   "metadata": {},
   "outputs": [],
   "source": [
    "tc = np.where(tide_class=='microtidal', np.repeat(1, len(tide_class)).reshape(len(tide_class),1), \\\n",
    "              np.where(tide_class=='macrotidal', np.repeat(3, len(tide_class)).reshape(len(tide_class),1),\\\n",
    "                       np.repeat(2, len(tide_class)).reshape(len(tide_class),1)))\n",
    "gs = np.where(geo_set=='Marine embayment', np.repeat(1, len(tide_class)).reshape(len(tide_class),1), \\\n",
    "              np.where(geo_set=='Riverine estuary', np.repeat(2, len(tide_class)).reshape(len(tide_class),1),\\\n",
    "              np.where(geo_set=='Calcareous', np.repeat(3, len(tide_class)).reshape(len(tide_class),1),\\\n",
    "              np.where(geo_set=='Tidal estuary', np.repeat(4, len(tide_class)).reshape(len(tide_class),1),\\\n",
    "              #np.where(tide_class=='Barrier estuary', np.repeat(3, len(tide_class)).reshape(len(tide_class),1),\\\n",
    "              np.repeat(5, len(tide_class)).reshape(len(tide_class),1)))))"
   ]
  },
  {
   "cell_type": "code",
   "execution_count": 5,
   "metadata": {},
   "outputs": [
    {
     "name": "stderr",
     "output_type": "stream",
     "text": [
      "/Users/ericaashe/anaconda3/lib/python3.7/site-packages/ipykernel_launcher.py:3: RuntimeWarning: invalid value encountered in less\n",
      "  This is separate from the ipykernel package so we can avoid doing imports until\n"
     ]
    }
   ],
   "source": [
    "int_obj = {}\n",
    "rsl_rate_at_acc = np.empty(len(acc_dates))\n",
    "acc_dates[np.where(acc_dates<min(ages_acc))]=min(ages_acc)\n",
    "for ii in arange(len(rates_acc[0,:,0])):\n",
    "    int_obj[ii] = interp1d(ages_acc, np.nanmean(rates_acc[:,ii,:], axis = 0), kind = 'linear')\n",
    "    rsl_rate_at_acc[ii] =  int_obj[ii](acc_dates[ii])\n",
    "nonnan = np.where(isnan(rsl_rate_at_acc)==0)\n",
    "rsl_rate = rsl_rate_at_acc[nonnan]\n",
    "acc_rate = accret_rate[nonnan]\n",
    "proxim = prox[nonnan]\n",
    "geo = geo_set[nonnan]\n",
    "tidr = tide_class[nonnan]\n",
    "accd = acc_dates[nonnan]\n",
    "\n",
    "gsn = np.squeeze(gs)[nonnan]\n",
    "tcn = np.squeeze(tc)[nonnan]\n",
    "#print(ind_var0)\n",
    "ind_var0 = np.column_stack(( rsl_rate, gsn, tcn, proxim))#, gs3, age_begmid, tc*prox, tc*gs1, tc*gs2, tc*gs3, prox*gs1,\\\n",
    "                           #prox*gs2, prox*gs3))\n",
    "ind_var1 = np.column_stack((gsn, tcn, proxim))\n",
    "#ind_var0 = np.concatenate((rsl_rate,geo, tidr, proxim),axis = 1)\n",
    "#ind_var =  sm.add_constant(ind_var0, prepend=False)\n",
    "dep_var = np.squeeze(accd)"
   ]
  },
  {
   "cell_type": "markdown",
   "metadata": {},
   "source": [
    "### Linear regression of Accretion Rate on RSLR"
   ]
  },
  {
   "cell_type": "code",
   "execution_count": 6,
   "metadata": {},
   "outputs": [
    {
     "name": "stdout",
     "output_type": "stream",
     "text": [
      "                            OLS Regression Results                            \n",
      "==============================================================================\n",
      "Dep. Variable:                      y   R-squared:                       0.517\n",
      "Model:                            OLS   Adj. R-squared:                  0.513\n",
      "Method:                 Least Squares   F-statistic:                     126.5\n",
      "Date:                Mon, 17 Aug 2020   Prob (F-statistic):           2.18e-20\n",
      "Time:                        12:06:59   Log-Likelihood:                -219.62\n",
      "No. Observations:                 120   AIC:                             443.2\n",
      "Df Residuals:                     118   BIC:                             448.8\n",
      "Df Model:                           1                                         \n",
      "Covariance Type:            nonrobust                                         \n",
      "==============================================================================\n",
      "                 coef    std err          t      P>|t|      [0.025      0.975]\n",
      "------------------------------------------------------------------------------\n",
      "x1             1.0452      0.093     11.247      0.000       0.861       1.229\n",
      "const          1.3110      0.170      7.703      0.000       0.974       1.648\n",
      "==============================================================================\n",
      "Omnibus:                       22.179   Durbin-Watson:                   1.857\n",
      "Prob(Omnibus):                  0.000   Jarque-Bera (JB):               28.522\n",
      "Skew:                           1.015   Prob(JB):                     6.40e-07\n",
      "Kurtosis:                       4.257   Cond. No.                         2.52\n",
      "==============================================================================\n",
      "\n",
      "Warnings:\n",
      "[1] Standard Errors assume that the covariance matrix of the errors is correctly specified.\n",
      "0.5173509000961252\n"
     ]
    },
    {
     "data": {
      "image/png": "[encoded data removed]",
      "text/plain": [
       "<Figure size 432x288 with 1 Axes>"
      ]
     },
     "metadata": {
      "needs_background": "light"
     },
     "output_type": "display_data"
    }
   ],
   "source": [
    "from sklearn.linear_model import LinearRegression\n",
    "from sklearn.metrics import mean_squared_error, r2_score\n",
    "y = acc_rate\n",
    "X = rsl_rate.reshape(-1, 1)\n",
    "\n",
    "reg = LinearRegression().fit(X, y)\n",
    "# Make predictions using the testing set\n",
    "y_pred = reg.predict(X)\n",
    "#plt.scatter(y, y_pred,  color='black')\n",
    "#plt.plot(y,y)\n",
    "\n",
    "\n",
    "#plt.plot(X, y_pred, color='blue', linewidth=3)\n",
    "#plt.ylabel('Mangrove Accretion Rates (mm/yr)')\n",
    "#plt.xlabel('RSL Rate (mm/yr) at Average Date of Accretion')\n",
    "#plt.savefig('Accretion Date by RSLR, Geo, Linear Regression' + date + '.pdf')\n",
    "\n",
    "X0 = sm.add_constant(X, prepend=False)\n",
    "model = sm.OLS(y, X0).fit()\n",
    "predictions = model.predict(X0) # make the predictions by the model\n",
    "print(model.summary())\n",
    "r2_score(y,predictions)\n",
    "plt.scatter(y, predictions,  color='black')\n",
    "plt.plot(y,y)\n",
    "print(r2_score(y,predictions))\n"
   ]
  },
  {
   "cell_type": "code",
   "execution_count": 7,
   "metadata": {},
   "outputs": [
    {
     "name": "stdout",
     "output_type": "stream",
     "text": [
      "                 Generalized Linear Model Regression Results                  \n",
      "==============================================================================\n",
      "Dep. Variable:                      y   No. Observations:                  120\n",
      "Model:                            GLM   Df Residuals:                      118\n",
      "Model Family:                Gaussian   Df Model:                            1\n",
      "Link Function:               identity   Scale:                          2.3148\n",
      "Method:                          IRLS   Log-Likelihood:                -219.62\n",
      "Date:                Mon, 17 Aug 2020   Deviance:                       273.15\n",
      "Time:                        12:07:03   Pearson chi2:                     273.\n",
      "No. Iterations:                     3   Covariance Type:             nonrobust\n",
      "==============================================================================\n",
      "                 coef    std err          z      P>|z|      [0.025      0.975]\n",
      "------------------------------------------------------------------------------\n",
      "x1             1.0452      0.093     11.247      0.000       0.863       1.227\n",
      "const          1.3110      0.170      7.703      0.000       0.977       1.645\n",
      "==============================================================================\n"
     ]
    },
    {
     "data": {
      "text/plain": [
       "0.5173509000961252"
      ]
     },
     "execution_count": 7,
     "metadata": {},
     "output_type": "execute_result"
    },
    {
     "data": {
      "image/png": "[encoded data removed]",
      "text/plain": [
       "<Figure size 432x288 with 1 Axes>"
      ]
     },
     "metadata": {
      "needs_background": "light"
     },
     "output_type": "display_data"
    }
   ],
   "source": [
    "glm0 = sm.GLM(y, X0, family=sm.families.Gaussian())\n",
    "              #%Poisson(link=sm.families.links.log))\n",
    "res0 = glm0.fit()\n",
    "print(res0.summary())\n",
    "yhat0 = res0.mu\n",
    "fig0, ax0 = plt.subplots()\n",
    "ax0.scatter(yhat0,y)\n",
    "\n",
    "line_fit = sm.OLS(y, sm.add_constant(yhat0, prepend=True)).fit()\n",
    "abline_plot(model_results=line_fit, ax=ax0)\n",
    "\n",
    "r2_score(y,yhat0)"
   ]
  },
  {
   "cell_type": "code",
   "execution_count": 8,
   "metadata": {
    "scrolled": true
   },
   "outputs": [
    {
     "data": {
      "image/png": "[encoded data removed]",
      "text/plain": [
       "<Figure size 432x288 with 1 Axes>"
      ]
     },
     "metadata": {
      "needs_background": "light"
     },
     "output_type": "display_data"
    }
   ],
   "source": [
    "from sklearn.linear_model import LinearRegression\n",
    "from sklearn.metrics import mean_squared_error, r2_score\n",
    "y = acc_rate\n",
    "X = rsl_rate.reshape(-1, 1)\n",
    "reg = LinearRegression().fit(X, y)\n",
    "# Make predictions using the testing set\n",
    "y_pred = reg.predict(X)\n",
    "plt.scatter(X, y,  color='black')\n",
    "plt.plot(X, y_pred, color='blue', linewidth=3)\n",
    "plt.ylabel('Mangrove Accretion Rates (mm/yr)')\n",
    "plt.xlabel('RSL Rate (mm/yr) at Average Date of Accretion')\n",
    "\n",
    "plt.savefig('Accretion Rate by RSLR Linear Regression' + date + '.pdf')"
   ]
  },
  {
   "cell_type": "markdown",
   "metadata": {},
   "source": [
    "### Now regress RSLR on geomorphic setting, tidal range, and proximity"
   ]
  },
  {
   "cell_type": "code",
   "execution_count": 9,
   "metadata": {},
   "outputs": [],
   "source": [
    "## regress accretion rate (accret_rate) on geomorphic setting (geo_set), tide type (tide_class), and proximity to former ice sheet (prox)\n",
    "## accret_rate is continuous (ranges from 0.17 to 12.6 mm/yr)\n",
    "## geo_set is categorical with five categories: 'Barrier estuary', 'Calcareous', 'Marine embayment', 'Riverine estuary', 'Tidal estuary'\n",
    "## tide_class is categorical with three categories: 'macrotidal', 'mesotidal', 'microtidal'\n",
    "## prox is categorical with 0 = intermediate-field (1 = far-field) to former ice sheet \n",
    "\n",
    "tc = np.where(tide_class=='microtidal', np.repeat(1, len(tide_class)).reshape(len(tide_class),1), \\\n",
    "              np.where(tide_class=='macrotidal', np.repeat(3, len(tide_class)).reshape(len(tide_class),1),\\\n",
    "                       np.repeat(2, len(tide_class)).reshape(len(tide_class),1)))\n",
    "gs = np.where(geo_set=='Marine embayment', np.repeat(1, len(tide_class)).reshape(len(tide_class),1), \\\n",
    "              np.where(geo_set=='Riverine estuary', np.repeat(2, len(tide_class)).reshape(len(tide_class),1),\\\n",
    "              np.where(geo_set=='Calcareous', np.repeat(3, len(tide_class)).reshape(len(tide_class),1),\\\n",
    "              np.where(geo_set=='Tidal estuary', np.repeat(4, len(tide_class)).reshape(len(tide_class),1),\\\n",
    "              #np.where(tide_class=='Barrier estuary', np.repeat(3, len(tide_class)).reshape(len(tide_class),1),\\\n",
    "              np.repeat(5, len(tide_class)).reshape(len(tide_class),1)))))\n",
    "\n",
    "gs1 = np.where(geo_set==('Marine embayment'or 'Barrier estuary'), 1, 0)\n",
    "gs2 = np.where(geo_set==('Barrier estuary' or 'Calcareous' or 'Tidal estuary'),1, 0)\n",
    "gs3 = np.where(geo_set==('Riverine estuary'or 'Calcareous'), 1, 0)\n",
    "\n",
    "#tide_class=='microtidal', np.repeat(1, len(tide_class)).reshape(len(tide_class),1), \\\n",
    "#              np.where(tide_class=='macrotidal', np.repeat(3, len(tide_class)).reshape(len(tide_class),1),\\\n",
    "#                       np.repeat(2, len(tide_class)).reshape(len(tide_class),1)))\n",
    "                       #         np.repeat(0, len(tide_class), 1, \n",
    "#dep_var = [accret_rate.reshape(len(accret_rate),1)]\n",
    "#ind_var = np.concatenate((geo_set, tide_class, prox),axis = 0)\n",
    "dep_var = np.squeeze(accret_rate)\n",
    "#dep_var = sm.add_constant(ind_var, prepend=False)\n",
    "#ind_var = np.concatenate((geo_set, tc, prox),axis = 1)\n",
    "#ind_var = np.column_stack((age_begmid.reshape(len(age_begmid),1)[where(tc==1)]\\#.reshape(len(age_begmid),1),\\\n",
    "#                           (age_begmid.reshape(len(age_begmid),1)[where(tc==0)].reshape(len(age_begmid),1))))\n",
    "ind_var0 = np.column_stack(( tc, prox, gs1, gs2, gs3, age_begmid, tc*prox, tc*gs1, tc*gs2, tc*gs3, prox*gs1,\\\n",
    "                           prox*gs2, prox*gs3))\n",
    "ind_var1 = np.column_stack(( tc, prox, gs1, gs2, gs3, tc*prox, tc*gs1, tc*gs2, tc*gs3, prox*gs1,\\\n",
    "                           prox*gs2, prox*gs3))\n",
    "                           #gs1*gs2, gs2*gs3, gs3*gs4, gs1*gs4))\n",
    "\n",
    "ind_var =  sm.add_constant(age_begmid, prepend=False)\n",
    "ind_var1 =  sm.add_constant(ind_var1, prepend=False)\n",
    "ind_var2 =  np.column_stack(( tc, tc*gs1, prox*gs1, prox*gs2))\n",
    "ind_var2 =  sm.add_constant(ind_var2, prepend=False)\n",
    "ind_var_gs = np.column_stack((gs1, gs2, gs3, gs1*gs2, gs2*gs3, gs3*gs1))\n",
    "ind_var_gs =  sm.add_constant(ind_var_gs, prepend=False)\n",
    "ind_var_t = sm.add_constant(tc, prepend=False)\n",
    "ind_var_p = sm.add_constant(prox, prepend=False)\n",
    "ind_var0 = sm.add_constant(ind_var0, prepend=False)"
   ]
  },
  {
   "cell_type": "code",
   "execution_count": 10,
   "metadata": {},
   "outputs": [
    {
     "data": {
      "text/html": [
       "<table class=\"simpletable\">\n",
       "<caption>Generalized Linear Model Regression Results</caption>\n",
       "<tr>\n",
       "  <th>Dep. Variable:</th>     <td>accret_rate</td>   <th>  No. Observations:  </th>  <td>   122</td>  \n",
       "</tr>\n",
       "<tr>\n",
       "  <th>Model:</th>                 <td>GLM</td>       <th>  Df Residuals:      </th>  <td>   109</td>  \n",
       "</tr>\n",
       "<tr>\n",
       "  <th>Model Family:</th>       <td>Gaussian</td>     <th>  Df Model:          </th>  <td>    12</td>  \n",
       "</tr>\n",
       "<tr>\n",
       "  <th>Link Function:</th>      <td>identity</td>     <th>  Scale:             </th> <td>  4.2273</td> \n",
       "</tr>\n",
       "<tr>\n",
       "  <th>Method:</th>               <td>IRLS</td>       <th>  Log-Likelihood:    </th> <td> -254.17</td> \n",
       "</tr>\n",
       "<tr>\n",
       "  <th>Date:</th>           <td>Mon, 17 Aug 2020</td> <th>  Deviance:          </th> <td>  460.77</td> \n",
       "</tr>\n",
       "<tr>\n",
       "  <th>Time:</th>               <td>12:07:13</td>     <th>  Pearson chi2:      </th>  <td>  461.</td>  \n",
       "</tr>\n",
       "<tr>\n",
       "  <th>No. Iterations:</th>         <td>3</td>        <th>  Covariance Type:   </th> <td>nonrobust</td>\n",
       "</tr>\n",
       "</table>\n",
       "<table class=\"simpletable\">\n",
       "<tr>\n",
       "                  <td></td>                    <th>coef</th>     <th>std err</th>      <th>z</th>      <th>P>|z|</th>  <th>[0.025</th>    <th>0.975]</th>  \n",
       "</tr>\n",
       "<tr>\n",
       "  <th>Intercept</th>                        <td>    1.7521</td> <td>    0.580</td> <td>    3.023</td> <td> 0.003</td> <td>    0.616</td> <td>    2.888</td>\n",
       "</tr>\n",
       "<tr>\n",
       "  <th>geo_set[T.Calcareous]</th>            <td>    0.5250</td> <td>    0.297</td> <td>    1.769</td> <td> 0.077</td> <td>   -0.057</td> <td>    1.107</td>\n",
       "</tr>\n",
       "<tr>\n",
       "  <th>geo_set[T.Marine embayment]</th>      <td>    0.9806</td> <td>    1.500</td> <td>    0.654</td> <td> 0.513</td> <td>   -1.959</td> <td>    3.920</td>\n",
       "</tr>\n",
       "<tr>\n",
       "  <th>geo_set[T.Riverine estuary]</th>      <td>    1.2142</td> <td>    1.655</td> <td>    0.734</td> <td> 0.463</td> <td>   -2.030</td> <td>    4.458</td>\n",
       "</tr>\n",
       "<tr>\n",
       "  <th>geo_set[T.Tidal estuary]</th>         <td>   -1.7493</td> <td>    1.000</td> <td>   -1.749</td> <td> 0.080</td> <td>   -3.709</td> <td>    0.211</td>\n",
       "</tr>\n",
       "<tr>\n",
       "  <th>tc</th>                               <td>   -0.3461</td> <td>    0.580</td> <td>   -0.597</td> <td> 0.550</td> <td>   -1.482</td> <td>    0.790</td>\n",
       "</tr>\n",
       "<tr>\n",
       "  <th>geo_set[T.Calcareous]:tc</th>         <td>    0.5250</td> <td>    0.297</td> <td>    1.769</td> <td> 0.077</td> <td>   -0.057</td> <td>    1.107</td>\n",
       "</tr>\n",
       "<tr>\n",
       "  <th>geo_set[T.Marine embayment]:tc</th>   <td>   -1.0479</td> <td>    1.229</td> <td>   -0.853</td> <td> 0.394</td> <td>   -3.456</td> <td>    1.360</td>\n",
       "</tr>\n",
       "<tr>\n",
       "  <th>geo_set[T.Riverine estuary]:tc</th>   <td>    0.5131</td> <td>    1.058</td> <td>    0.485</td> <td> 0.628</td> <td>   -1.560</td> <td>    2.587</td>\n",
       "</tr>\n",
       "<tr>\n",
       "  <th>geo_set[T.Tidal estuary]:tc</th>      <td>    1.0429</td> <td>    1.176</td> <td>    0.886</td> <td> 0.375</td> <td>   -1.263</td> <td>    3.349</td>\n",
       "</tr>\n",
       "<tr>\n",
       "  <th>prox</th>                             <td>    2.4140</td> <td>    0.888</td> <td>    2.718</td> <td> 0.007</td> <td>    0.673</td> <td>    4.155</td>\n",
       "</tr>\n",
       "<tr>\n",
       "  <th>geo_set[T.Calcareous]:prox</th>       <td>   -4.0757</td> <td>    1.419</td> <td>   -2.873</td> <td> 0.004</td> <td>   -6.857</td> <td>   -1.295</td>\n",
       "</tr>\n",
       "<tr>\n",
       "  <th>geo_set[T.Marine embayment]:prox</th> <td>   -1.2110</td> <td>    1.368</td> <td>   -0.885</td> <td> 0.376</td> <td>   -3.893</td> <td>    1.471</td>\n",
       "</tr>\n",
       "<tr>\n",
       "  <th>geo_set[T.Riverine estuary]:prox</th> <td>   -2.6017</td> <td>    1.640</td> <td>   -1.587</td> <td> 0.113</td> <td>   -5.815</td> <td>    0.612</td>\n",
       "</tr>\n",
       "<tr>\n",
       "  <th>geo_set[T.Tidal estuary]:prox</th>    <td>   -1.7493</td> <td>    1.000</td> <td>   -1.749</td> <td> 0.080</td> <td>   -3.709</td> <td>    0.211</td>\n",
       "</tr>\n",
       "<tr>\n",
       "  <th>tc:prox</th>                          <td>    0.3158</td> <td>    0.430</td> <td>    0.734</td> <td> 0.463</td> <td>   -0.527</td> <td>    1.159</td>\n",
       "</tr>\n",
       "</table>"
      ],
      "text/plain": [
       "<class 'statsmodels.iolib.summary.Summary'>\n",
       "\"\"\"\n",
       "                 Generalized Linear Model Regression Results                  \n",
       "==============================================================================\n",
       "Dep. Variable:            accret_rate   No. Observations:                  122\n",
       "Model:                            GLM   Df Residuals:                      109\n",
       "Model Family:                Gaussian   Df Model:                           12\n",
       "Link Function:               identity   Scale:                          4.2273\n",
       "Method:                          IRLS   Log-Likelihood:                -254.17\n",
       "Date:                Mon, 17 Aug 2020   Deviance:                       460.77\n",
       "Time:                        12:07:13   Pearson chi2:                     461.\n",
       "No. Iterations:                     3   Covariance Type:             nonrobust\n",
       "====================================================================================================\n",
       "                                       coef    std err          z      P>|z|      [0.025      0.975]\n",
       "----------------------------------------------------------------------------------------------------\n",
       "Intercept                            1.7521      0.580      3.023      0.003       0.616       2.888\n",
       "geo_set[T.Calcareous]                0.5250      0.297      1.769      0.077      -0.057       1.107\n",
       "geo_set[T.Marine embayment]          0.9806      1.500      0.654      0.513      -1.959       3.920\n",
       "geo_set[T.Riverine estuary]          1.2142      1.655      0.734      0.463      -2.030       4.458\n",
       "geo_set[T.Tidal estuary]            -1.7493      1.000     -1.749      0.080      -3.709       0.211\n",
       "tc                                  -0.3461      0.580     -0.597      0.550      -1.482       0.790\n",
       "geo_set[T.Calcareous]:tc             0.5250      0.297      1.769      0.077      -0.057       1.107\n",
       "geo_set[T.Marine embayment]:tc      -1.0479      1.229     -0.853      0.394      -3.456       1.360\n",
       "geo_set[T.Riverine estuary]:tc       0.5131      1.058      0.485      0.628      -1.560       2.587\n",
       "geo_set[T.Tidal estuary]:tc          1.0429      1.176      0.886      0.375      -1.263       3.349\n",
       "prox                                 2.4140      0.888      2.718      0.007       0.673       4.155\n",
       "geo_set[T.Calcareous]:prox          -4.0757      1.419     -2.873      0.004      -6.857      -1.295\n",
       "geo_set[T.Marine embayment]:prox    -1.2110      1.368     -0.885      0.376      -3.893       1.471\n",
       "geo_set[T.Riverine estuary]:prox    -2.6017      1.640     -1.587      0.113      -5.815       0.612\n",
       "geo_set[T.Tidal estuary]:prox       -1.7493      1.000     -1.749      0.080      -3.709       0.211\n",
       "tc:prox                              0.3158      0.430      0.734      0.463      -0.527       1.159\n",
       "====================================================================================================\n",
       "\"\"\""
      ]
     },
     "execution_count": 10,
     "metadata": {},
     "output_type": "execute_result"
    }
   ],
   "source": [
    "formula = 'accret_rate ~ tc + prox + geo_set + geo_set*tc + \\\n",
    "    geo_set*prox + tc*prox'\n",
    "\n",
    "dta = pd.DataFrame({'accret_rate':np.squeeze(accret_rate),'tc':np.squeeze(tc), 'prox':np.squeeze(prox),  'geo_set':np.squeeze(geo_set)})\n",
    "dta['accret_rate']\n",
    "mod1 = smf.glm(formula=formula, data=dta, family=sm.families.Gaussian()).fit()\n",
    "mod1.summary()"
   ]
  },
  {
   "cell_type": "code",
   "execution_count": 11,
   "metadata": {},
   "outputs": [
    {
     "data": {
      "text/html": [
       "<table class=\"simpletable\">\n",
       "<caption>Generalized Linear Model Regression Results</caption>\n",
       "<tr>\n",
       "  <th>Dep. Variable:</th>     <td>accret_rate</td>   <th>  No. Observations:  </th>  <td>   122</td>  \n",
       "</tr>\n",
       "<tr>\n",
       "  <th>Model:</th>                 <td>GLM</td>       <th>  Df Residuals:      </th>  <td>   115</td>  \n",
       "</tr>\n",
       "<tr>\n",
       "  <th>Model Family:</th>       <td>Gaussian</td>     <th>  Df Model:          </th>  <td>     6</td>  \n",
       "</tr>\n",
       "<tr>\n",
       "  <th>Link Function:</th>      <td>identity</td>     <th>  Scale:             </th> <td>  4.4460</td> \n",
       "</tr>\n",
       "<tr>\n",
       "  <th>Method:</th>               <td>IRLS</td>       <th>  Log-Likelihood:    </th> <td> -260.52</td> \n",
       "</tr>\n",
       "<tr>\n",
       "  <th>Date:</th>           <td>Mon, 17 Aug 2020</td> <th>  Deviance:          </th> <td>  511.29</td> \n",
       "</tr>\n",
       "<tr>\n",
       "  <th>Time:</th>               <td>12:07:18</td>     <th>  Pearson chi2:      </th>  <td>  511.</td>  \n",
       "</tr>\n",
       "<tr>\n",
       "  <th>No. Iterations:</th>         <td>3</td>        <th>  Covariance Type:   </th> <td>nonrobust</td>\n",
       "</tr>\n",
       "</table>\n",
       "<table class=\"simpletable\">\n",
       "<tr>\n",
       "               <td></td>                  <th>coef</th>     <th>std err</th>      <th>z</th>      <th>P>|z|</th>  <th>[0.025</th>    <th>0.975]</th>  \n",
       "</tr>\n",
       "<tr>\n",
       "  <th>Intercept</th>                   <td>    1.6483</td> <td>    0.578</td> <td>    2.852</td> <td> 0.004</td> <td>    0.516</td> <td>    2.781</td>\n",
       "</tr>\n",
       "<tr>\n",
       "  <th>geo_set[T.Calcareous]</th>       <td>    0.2562</td> <td>    0.542</td> <td>    0.473</td> <td> 0.636</td> <td>   -0.806</td> <td>    1.318</td>\n",
       "</tr>\n",
       "<tr>\n",
       "  <th>geo_set[T.Marine embayment]</th> <td>   -0.7628</td> <td>    0.590</td> <td>   -1.293</td> <td> 0.196</td> <td>   -1.919</td> <td>    0.394</td>\n",
       "</tr>\n",
       "<tr>\n",
       "  <th>geo_set[T.Riverine estuary]</th> <td>    0.6779</td> <td>    0.668</td> <td>    1.014</td> <td> 0.310</td> <td>   -0.632</td> <td>    1.988</td>\n",
       "</tr>\n",
       "<tr>\n",
       "  <th>geo_set[T.Tidal estuary]</th>    <td>   -0.7672</td> <td>    0.909</td> <td>   -0.844</td> <td> 0.398</td> <td>   -2.548</td> <td>    1.014</td>\n",
       "</tr>\n",
       "<tr>\n",
       "  <th>tc</th>                          <td>    0.2909</td> <td>    0.398</td> <td>    0.730</td> <td> 0.465</td> <td>   -0.490</td> <td>    1.071</td>\n",
       "</tr>\n",
       "<tr>\n",
       "  <th>prox</th>                        <td>    0.8688</td> <td>    0.527</td> <td>    1.648</td> <td> 0.099</td> <td>   -0.165</td> <td>    1.902</td>\n",
       "</tr>\n",
       "</table>"
      ],
      "text/plain": [
       "<class 'statsmodels.iolib.summary.Summary'>\n",
       "\"\"\"\n",
       "                 Generalized Linear Model Regression Results                  \n",
       "==============================================================================\n",
       "Dep. Variable:            accret_rate   No. Observations:                  122\n",
       "Model:                            GLM   Df Residuals:                      115\n",
       "Model Family:                Gaussian   Df Model:                            6\n",
       "Link Function:               identity   Scale:                          4.4460\n",
       "Method:                          IRLS   Log-Likelihood:                -260.52\n",
       "Date:                Mon, 17 Aug 2020   Deviance:                       511.29\n",
       "Time:                        12:07:18   Pearson chi2:                     511.\n",
       "No. Iterations:                     3   Covariance Type:             nonrobust\n",
       "===============================================================================================\n",
       "                                  coef    std err          z      P>|z|      [0.025      0.975]\n",
       "-----------------------------------------------------------------------------------------------\n",
       "Intercept                       1.6483      0.578      2.852      0.004       0.516       2.781\n",
       "geo_set[T.Calcareous]           0.2562      0.542      0.473      0.636      -0.806       1.318\n",
       "geo_set[T.Marine embayment]    -0.7628      0.590     -1.293      0.196      -1.919       0.394\n",
       "geo_set[T.Riverine estuary]     0.6779      0.668      1.014      0.310      -0.632       1.988\n",
       "geo_set[T.Tidal estuary]       -0.7672      0.909     -0.844      0.398      -2.548       1.014\n",
       "tc                              0.2909      0.398      0.730      0.465      -0.490       1.071\n",
       "prox                            0.8688      0.527      1.648      0.099      -0.165       1.902\n",
       "===============================================================================================\n",
       "\"\"\""
      ]
     },
     "execution_count": 11,
     "metadata": {},
     "output_type": "execute_result"
    }
   ],
   "source": [
    "formula = 'accret_rate ~ tc + prox + geo_set'\n",
    "dta = pd.DataFrame({'accret_rate':np.squeeze(accret_rate),'tc':np.squeeze(tc), 'prox':np.squeeze(prox),  'geo_set':np.squeeze(geo_set)})\n",
    "dta['accret_rate']\n",
    "mod1 = smf.glm(formula=formula, data=dta, family=sm.families.Gaussian()).fit()\n",
    "mod1.summary()"
   ]
  }
 ],
 "metadata": {
  "kernelspec": {
   "display_name": "Python 3",
   "language": "python",
   "name": "python3"
  },
  "language_info": {
   "codemirror_mode": {
    "name": "ipython",
    "version": 3
   },
   "file_extension": ".py",
   "mimetype": "text/x-python",
   "name": "python",
   "nbconvert_exporter": "python",
   "pygments_lexer": "ipython3",
   "version": "3.7.0"
  }
 },
 "nbformat": 4,
 "nbformat_minor": 2
}
